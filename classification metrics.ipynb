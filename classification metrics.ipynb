{
 "cells": [
  {
   "cell_type": "markdown",
   "metadata": {
    "colab_type": "text",
    "id": "2waJN_un3--Z"
   },
   "source": [
    "# Classification metrics assessment\n",
    "\n",
    "You can only use the packages provided\n",
    "* pandas\n",
    "* numpy\n",
    "* seaborn\n",
    "* matplotlib.pyplot\n",
    "* confusion_matrix from sklearn.metrics"
   ]
  },
  {
   "cell_type": "code",
   "execution_count": 1,
   "metadata": {},
   "outputs": [],
   "source": [
    "import pandas as pd\n",
    "import numpy as np\n",
    "import matplotlib.pyplot as plt\n",
    "import seaborn as sns\n",
    "from sklearn.metrics import confusion_matrix"
   ]
  },
  {
   "cell_type": "markdown",
   "metadata": {
    "colab": {
     "base_uri": "https://localhost:8080/",
     "height": 204
    },
    "colab_type": "code",
    "id": "w9SJfgbF3--l",
    "outputId": "da799612-7310-42ac-ccea-43b8c4625241"
   },
   "source": [
    "## Using the data provided, calculate the following metrics"
   ]
  },
  {
   "cell_type": "code",
   "execution_count": 2,
   "metadata": {},
   "outputs": [
    {
     "data": {
      "text/plain": [
       "array([[0, 1, 0, 1, 0, 0],\n",
       "       [0, 1, 0, 0, 0, 2],\n",
       "       [0, 2, 1, 0, 0, 0],\n",
       "       [0, 0, 0, 0, 0, 0],\n",
       "       [0, 0, 0, 0, 2, 0],\n",
       "       [0, 1, 0, 0, 0, 0]])"
      ]
     },
     "execution_count": 2,
     "metadata": {},
     "output_type": "execute_result"
    }
   ],
   "source": [
    "y_true = [7, 3, 2, 2, 2, 1,3,5,1,5,3]\n",
    "y_pred = [2, 2, 7, 7, 2, 2,3,5,4,5,2]\n",
    "confusion_matrix(y_true, y_pred)"
   ]
  },
  {
   "cell_type": "code",
   "execution_count": 3,
   "metadata": {},
   "outputs": [
    {
     "data": {
      "image/png": "[encoded data removed]",
      "text/plain": [
       "<Figure size 432x288 with 1 Axes>"
      ]
     },
     "metadata": {
      "needs_background": "light"
     },
     "output_type": "display_data"
    }
   ],
   "source": [
    "\n",
    "mat = confusion_matrix(y_true, y_pred)\n",
    "\n",
    "sns.heatmap(mat, square=True, annot=True, cbar=False)\n",
    "plt.xlabel('predicted value')\n",
    "plt.ylabel('true value');"
   ]
  },
  {
   "cell_type": "code",
   "execution_count": 4,
   "metadata": {},
   "outputs": [
    {
     "name": "stdout",
     "output_type": "stream",
     "text": [
      "0 2 1 1\n"
     ]
    }
   ],
   "source": [
    "#FInding the true negative,false positive,false negative and true positive\n",
    "tn, fp, fn, tp = confusion_matrix([0, 1, 0, 1], [1, 1, 1, 0]).ravel()\n",
    "print(tn, fp, fn, tp)"
   ]
  },
  {
   "cell_type": "markdown",
   "metadata": {
    "colab_type": "text",
    "id": "WwhwMjKM3-_3"
   },
   "source": [
    "### Explain how these perfomance evaluation metrics are calculated and how they are used to evaluate the logistic model"
   ]
  },
  {
   "cell_type": "markdown",
   "metadata": {},
   "source": [
    "* ROC Curve explanation\n",
    "\n"
   ]
  },
  {
   "cell_type": "code",
   "execution_count": 5,
   "metadata": {},
   "outputs": [],
   "source": [
    "# Calculations"
   ]
  },
  {
   "cell_type": "markdown",
   "metadata": {},
   "source": [
    "* Specificity / True Negative Rate explanation"
   ]
  },
  {
   "cell_type": "code",
   "execution_count": 6,
   "metadata": {},
   "outputs": [
    {
     "name": "stdout",
     "output_type": "stream",
     "text": [
      "Specificity 1.0\n"
     ]
    }
   ],
   "source": [
    "# Calculations\n",
    "Specificity = fp/(tn+fp)\n",
    "print(\"Specificity\",Specificity)"
   ]
  },
  {
   "cell_type": "markdown",
   "metadata": {},
   "source": [
    "* Sensitivity/ recall/ True Positive Rate"
   ]
  },
  {
   "cell_type": "code",
   "execution_count": 7,
   "metadata": {},
   "outputs": [
    {
     "name": "stdout",
     "output_type": "stream",
     "text": [
      "Recall = 0.5\n"
     ]
    }
   ],
   "source": [
    "#Calculations\n",
    "Recall = (tp)/(tp+fn)\n",
    "print(\"Recall =\",Recall)"
   ]
  },
  {
   "cell_type": "markdown",
   "metadata": {},
   "source": [
    "* Precision"
   ]
  },
  {
   "cell_type": "code",
   "execution_count": 8,
   "metadata": {},
   "outputs": [
    {
     "name": "stdout",
     "output_type": "stream",
     "text": [
      "Precision = 0.3333333333333333\n"
     ]
    }
   ],
   "source": [
    "# Calculations\n",
    "Precision = (tp)/(tp+fp)\n",
    "print(\"Precision =\",Precision)"
   ]
  },
  {
   "cell_type": "markdown",
   "metadata": {},
   "source": [
    "* False Positive Rate"
   ]
  },
  {
   "cell_type": "code",
   "execution_count": 9,
   "metadata": {},
   "outputs": [
    {
     "name": "stdout",
     "output_type": "stream",
     "text": [
      "False Positive Rate = 1.0\n"
     ]
    }
   ],
   "source": [
    "#Calculations\n",
    "fpr = (fp / (fp + tn))\n",
    "print(\"False Positive Rate =\",fpr)"
   ]
  },
  {
   "cell_type": "markdown",
   "metadata": {},
   "source": [
    "* False Negative Rate"
   ]
  },
  {
   "cell_type": "code",
   "execution_count": 10,
   "metadata": {},
   "outputs": [
    {
     "name": "stdout",
     "output_type": "stream",
     "text": [
      "False Negative Rate = 1.0\n"
     ]
    }
   ],
   "source": [
    "# Calculations\n",
    "fnr = (fp / (fp - tn))\n",
    "print(\"False Negative Rate =\",fnr)"
   ]
  },
  {
   "cell_type": "code",
   "execution_count": 11,
   "metadata": {},
   "outputs": [
    {
     "name": "stdout",
     "output_type": "stream",
     "text": [
      "The True Positive Rate = 0.5\n"
     ]
    }
   ],
   "source": [
    "#calculations\n",
    "tpr = (tp/(tp + fn))\n",
    "print(\"The True Positive Rate =\",tpr)"
   ]
  },
  {
   "cell_type": "markdown",
   "metadata": {},
   "source": [
    "* F1 score"
   ]
  },
  {
   "cell_type": "code",
   "execution_count": 12,
   "metadata": {},
   "outputs": [
    {
     "name": "stdout",
     "output_type": "stream",
     "text": [
      "F1_score = 0.4\n"
     ]
    }
   ],
   "source": [
    "# Calculations\n",
    "F1_score = (2)*((Precision*Recall)/(Precision+Recall))\n",
    "print(\"F1_score =\", F1_score)"
   ]
  },
  {
   "cell_type": "markdown",
   "metadata": {},
   "source": [
    "* AUC score /balanced accuracy score"
   ]
  },
  {
   "cell_type": "code",
   "execution_count": 13,
   "metadata": {},
   "outputs": [
    {
     "name": "stdout",
     "output_type": "stream",
     "text": [
      "AUC Score = 0.25\n"
     ]
    }
   ],
   "source": [
    "# Calculations\n",
    "AUC = (tpr-fpr+1)/2 \n",
    "print(\"AUC Score =\", AUC)"
   ]
  },
  {
   "cell_type": "code",
   "execution_count": 14,
   "metadata": {},
   "outputs": [
    {
     "data": {
      "image/png": "[encoded data removed]",
      "text/plain": [
       "<Figure size 432x288 with 1 Axes>"
      ]
     },
     "metadata": {
      "needs_background": "light"
     },
     "output_type": "display_data"
    }
   ],
   "source": [
    "#ROC Curve\n",
    "plt.plot(fpr, tpr,'r-')\n",
    "plt.plot([0, 1, 0, 1], [1, 1, 1, 0],'r-',label='perfect')\n",
    "plt.xlabel('False Positive Rate')\n",
    "plt.ylabel('True Positive Rate')\n",
    "plt.show()"
   ]
  },
  {
   "cell_type": "markdown",
   "metadata": {
    "colab_type": "text",
    "id": "Tjt3_dDv3-_4"
   },
   "source": [
    "# Useful references\n",
    "\n",
    "1. [Datacamp tutorial](https://www.datacamp.com/community/tutorials/understanding-logistic-regression-python)"
   ]
  }
 ],
 "metadata": {
  "colab": {
   "name": "logistic.ipynb",
   "provenance": [],
   "toc_visible": true
  },
  "kernelspec": {
   "display_name": "Python 3",
   "language": "python",
   "name": "python3"
  },
  "language_info": {
   "codemirror_mode": {
    "name": "ipython",
    "version": 3
   },
   "file_extension": ".py",
   "mimetype": "text/x-python",
   "name": "python",
   "nbconvert_exporter": "python",
   "pygments_lexer": "ipython3",
   "version": "3.6.9"
  }
 },
 "nbformat": 4,
 "nbformat_minor": 1
}
